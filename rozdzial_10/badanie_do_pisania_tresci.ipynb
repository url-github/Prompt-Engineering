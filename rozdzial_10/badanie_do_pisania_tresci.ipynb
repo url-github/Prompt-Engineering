{
 "cells": [
  {
   "cell_type": "code",
   "execution_count": 1,
   "metadata": {},
   "outputs": [],
   "source": [
    "from langchain_openai.chat_models import ChatOpenAI\n",
    "from langchain.output_parsers import PydanticOutputParser\n",
    "from langchain.text_splitter import RecursiveCharacterTextSplitter\n",
    "import os"
   ]
  },
  {
   "cell_type": "code",
   "execution_count": 2,
   "metadata": {},
   "outputs": [],
   "source": [
    "# Własne importy:\n",
    "from content_collection import collect_serp_data_and_extract_text_from_webpages\n",
    "from custom_summarize_chain import create_all_summaries, DocumentSummary\n",
    "from expert_interview_chain import InterviewChain"
   ]
  },
  {
   "attachments": {},
   "cell_type": "markdown",
   "metadata": {},
   "source": [
    "## Badanie tematu:"
   ]
  },
  {
   "cell_type": "code",
   "execution_count": 3,
   "metadata": {},
   "outputs": [
    {
     "name": "stdout",
     "output_type": "stream",
     "text": [
      "\u001b[33mWARNING: There was an error checking the latest version of pip.\u001b[0m\u001b[33m\n",
      "\u001b[0mNote: you may need to restart the kernel to use updated packages.\n"
     ]
    }
   ],
   "source": [
    "%pip install google-search-results pandas html2text pytest-playwright chromadb nest_asyncio --quiet"
   ]
  },
  {
   "cell_type": "code",
   "execution_count": 4,
   "metadata": {},
   "outputs": [],
   "source": [
    "!playwright install"
   ]
  },
  {
   "cell_type": "code",
   "execution_count": 5,
   "metadata": {},
   "outputs": [],
   "source": [
    "import nest_asyncio\n",
    "nest_asyncio.apply()"
   ]
  },
  {
   "cell_type": "code",
   "execution_count": 6,
   "metadata": {},
   "outputs": [],
   "source": [
    "# Stałe zmienne:\n",
    "TOPIC = \"Sieci neuronowe\"\n",
    "os.environ[\"SERPAPI_API_KEY\"] = \"2\"\n",
    "os.environ[\"STABILITY_API_KEY\"] = \"sk-gxVY1Jl2ZCspR5hOXp7rsqTlEUlvG2gSrrTepwnAbqOYmEy5\""
   ]
  },
  {
   "cell_type": "code",
   "execution_count": 7,
   "metadata": {},
   "outputs": [],
   "source": [
    "# Przetwórz treść stron internetowych do postaci dokumentów LangChain:\n",
    "text_documents = await collect_serp_data_and_extract_text_from_webpages(topic=TOPIC)"
   ]
  },
  {
   "cell_type": "code",
   "execution_count": 8,
   "metadata": {},
   "outputs": [],
   "source": [
    "# LLM, rozdzielacz tekstu + parser:\n",
    "llm = ChatOpenAI(temperature=0)\n",
    "text_splitter = RecursiveCharacterTextSplitter.from_tiktoken_encoder(\n",
    "    chunk_size=1500, chunk_overlap=400\n",
    ")\n",
    "parser = PydanticOutputParser(pydantic_object=DocumentSummary)"
   ]
  },
  {
   "cell_type": "code",
   "execution_count": 9,
   "metadata": {},
   "outputs": [
    {
     "name": "stdout",
     "output_type": "stream",
     "text": [
      "first\n",
      "page_content='Przejdź do zawartości\\n\\nMenu główne\\n\\nMenu główne\\n\\nprzypnij ukryj\\n\\nNawigacja\\n\\n  * Strona główna\\n  * Losuj artykuł\\n  * Kategorie artykułów\\n  * Najlepsze artykuły\\n  * Częste pytania (FAQ)\\n\\nDla czytelników\\n\\n  * O Wikipedii\\n  * Kontakt\\n\\nDla wikipedystów\\n\\n  * Pierwsze kroki\\n  * Portal wikipedystów\\n  * Ogłoszenia\\n  * Zasady\\n  * Pomoc\\n  * Ostatnie zmiany\\n\\nSzukaj\\n\\nSzukaj\\n\\n  * Wspomóż Wikipedię\\n\\nWygląd\\n\\n  * Utwórz konto\\n  * Zaloguj się\\n\\nNarzędzia osobiste\\n\\n  * Utwórz konto\\n  * Zaloguj się\\n\\nStrony dla anonimowych edytorów dowiedz się więcej\\n\\n  * Edycje\\n  * Dyskusja\\n\\n## Spis treści\\n\\nprzypnij ukryj\\n\\n  * Początek\\n\\n  * 1 Typy sieci neuronowych\\n\\nPrzełącz podsekcję Typy sieci neuronowych\\n\\n    * 1.1 Sieci jednokierunkowe\\n\\n    * 1.2 Sieci rekurencyjne\\n\\n    * 1.3 Samoorganizujące się mapy\\n\\n    * 1.4 Inne\\n\\n  * 2 Wybrane narzędzia do budowy sieci neuronowych\\n\\nPrzełącz podsekcję Wybrane narzędzia do budowy sieci neuronowych\\n\\n    * 2.1 Matlab\\n\\n    * 2.2 Statistica Neural Networks\\n\\n  * 3 Zastosowania\\n\\n  * 4 Zobacz też\\n\\n  * 5 Przypisy\\n\\n  * 6 Linki zewnętrzne\\n\\nPrzełącz stan spisu treści\\n\\n# Sieć neuronowa[edytuj]\\n\\n63 języki\\n\\n  * العربية\\n  * Արեւմտահայերէն\\n  * Azərbaycanca\\n  * বাংলা\\n  * 閩南語 / Bân-lâm-gú\\n  * Български\\n  * Bosanski\\n  * Català\\n  * Čeština\\n  * Dansk\\n  * Deutsch\\n  * Eesti\\n  * Ελληνικά\\n  * English\\n  * Español\\n  * Esperanto\\n  * Euskara\\n  * فارسی\\n  * Français\\n  * Gaeilge\\n  * Galego\\n  * 한국어\\n  * Հայերեն\\n  * हिन्दी\\n  * Hrvatski\\n  * Bahasa Indonesia\\n  * Interlingua\\n  * Íslenska\\n  * Italiano\\n  * עברית\\n  * ქართული\\n  * Latina\\n  * Latviešu\\n  * Lietuvių\\n  * Magyar\\n  * Македонски\\n  * Malagasy\\n  * മലയാളം\\n  * Bahasa Melayu\\n  * Nederlands\\n  * 日本語\\n  * Norsk bokmål\\n  * Norsk nynorsk\\n  * ଓଡ଼ିଆ\\n  * Português\\n  * Română\\n  * Runa Simi\\n  * Русский\\n  * Simple English\\n  * Slovenčina\\n  * Ślůnski\\n  * Српски / srpski\\n  * Suomi\\n  * Svenska\\n  * தமிழ்\\n  * ไทย\\n  * Türkçe\\n  * Українська\\n  * اردو\\n  * Tiếng Việt\\n  * 吴语\\n  * 粵語\\n  * 中文\\n\\nEdytuj linki\\n\\n  * Artykuł\\n  * Dyskusja\\n\\npolski\\n\\n  * Czytaj\\n  * Edytuj\\n  * Edytuj kod źródłowy\\n  * Wyświetl historię\\n\\nNarzędzia\\n\\nNarzędzia\\n\\nprzypnij ukryj\\n\\nDziałania\\n\\n  * Czytaj\\n  * Edytuj\\n  * Edytuj kod źródłowy\\n  * Wyświetl historię\\n\\nOgólne\\n\\n  * Linkujące\\n  * Zmiany w linkowanych\\n  * Prześlij plik\\n  * Strony specjalne\\n  * Link do tej wersji\\n  * Informacje o tej stronie\\n  * Cytowanie tego artykułu\\n  * Zobacz skrócony adres URL\\n  * Pobierz kod QR\\n  * Element Wikidanych\\n\\nDrukuj lub eksportuj'\n",
      "Podsumowanie danych!\n",
      "first\n",
      "page_content='# Czym jest sieć neuronowa?\\n\\nTerminu **sieć neuronowa** używa się na określenie całej rodziny luźno\\npowiązanych modeli, których cechą charakterystyczną jest duża przestrzeń\\nparametrów i elastyczna struktura. Modele te opracowano, wzorując się na\\ndziałaniu mózgu. Nowe modele sieci neuronowych przeznaczone były w większości\\ndo zastosowań niezwiązanych z biologią, jednak stosowana terminologia\\nodzwierciedla pierwotne inspiracje neurologiczne.\\n\\nW różnych dziedzinach stosuje się różne definicje sieci neuronowych. Chociaż\\nżadna pojedyncza definicja nie obejmuje poprawnie całej rodziny modeli, należy\\nwziąć pod uwagę następujący opis 1:\\n\\nSieć neuronowa to masowo równoległy procesor rozproszony, który jest\\nnaturalnie predystynowany do gromadzenia wiedzy eksperymentalnej i\\nudostępniania jej w celu wykorzystania. Sieć neuronowa pod dwoma względami\\nprzypomina mózg:\\n\\n  * Sieć zdobywa wiedzę, ucząc się.\\n  * Do przechowywania wiedzy wykorzystywane są siły połączeń między neuronami, nazywane wagami synaptycznymi.\\n\\nOmówienie przyczyny, dla której ta definicja jest prawdopodobnie zbyt\\nrestrykcyjna, zawiera 2.\\n\\nDla odróżnienia sieci neuronowych od tradycyjnych metod statystycznych równie\\nważne, jak sam tekst definicji, jest to, czy ta definicja _nie_ zawiera. Na\\nprzykład tradycyjny model regresji liniowej może uzyskiwać wiedzę metodą\\nnajmniejszych kwadratów i przechowywać ją w postaci współczynników regresji. W\\ntym sensie jest siecią neuronową. Na tej podstawie można byłoby twierdzić, że\\nregresja liniowa jest szczególnym przypadkiem pewnej kategorii sieci\\nneuronowych. Jednak regresja liniowa jest modelem o sztywnej strukturze, w\\nktórym pewne założenia narzucone są jeszcze przed rozpoczęciem uczenia na\\npodstawie danych.\\n\\nNatomiast przedstawiona powyżej definicja stawia tylko minimalne wymagania co\\ndo struktury modelu i dotyczących go założeń. Zatem sieć neuronowa może być\\nprzybliżeniem wielu różnych modeli statystycznych, nie wymagając\\nwcześniejszego stawiania hipotez co do relacji między zmiennymi zależnymi i\\nniezależnymi. Postać relacji wyznaczana jest w procesie uczenia sieci. Jeśli\\nodpowiednia jest liniowa zależność między zmienną zależną i niezależną, wyniki\\ndziałania sieci neuronowej powinny być dobrym przybliżeniem modelu regresji\\nliniowej. Jeśli bardziej odpowiednie jest powiązanie nieliniowe, wówczas sieć\\nneuronowa będzie automatycznie przybliżać „prawidłową” strukturę modelu.\\n\\nZ tą elastycznością wiąże się jednak pewien koszt: trudność w interpretacji\\nwag synaptycznych sieci neuronowej. Dlatego, jeśli celem analityka jest\\nwyjaśnienie procesu, który prowadzi do powstania relacji między zmienną\\nzależną i niezależną, lepiej byłoby użyć bardziej tradycyjnego modelu\\nstatystycznego. Jeśli jednak łatwość interpretacji modelu nie jest ważna, w\\nwielu przypadkach sieć neuronowa pozwala na szybsze uzyskanie dobrych wyników.\\n\\n**Temat nadrzędny:** Wprowadzenie do sieci neuronowych'\n",
      "Podsumowanie danych!\n",
      "first\n",
      "page_content='Wróć do strony głównej\\n\\nSAS Logo\\n\\nMenu\\n\\n  * Oprogramowanie\\n  * Dowiedz się\\n  * Wsparcie\\n  * Partnerzy\\n  * O nas\\n  *  \\n\\nWypróbuj SAS'\n",
      "Podsumowanie danych!\n",
      "Czas trwania operacji: 2.163902997970581\n",
      "Zakończono podsumowanie danych!\n",
      "---\n",
      "{\n",
      "  \"concise_summary\": \"Jesteś analitykiem SEO. Twoim zadaniem jest podsumowanie i wyodrębnienie kluczowych punktów z poniższego tekstu.\",\n",
      "  \"writing_style\": \"Informacyjny\",\n",
      "  \"key_points\": [\n",
      "    \"Analityk SEO ma za zadanie przeanalizować tekst i wyodrębnić kluczowe punkty oraz opinie\",\n",
      "    \"Wyniki analizy będą wykorzystane do badań nad treścią\",\n",
      "    \"Porównane zostaną kluczowe punkty, spostrzeżenia i podsumowania z wielu artykułów\"\n",
      "  ],\n",
      "  \"expert_opinions\": [],\n",
      "  \"metadata\": {}\n",
      "}\n",
      "Czas trwania operacji: 3.3379180431365967\n",
      "Zakończono podsumowanie danych!\n",
      "---\n",
      "{\n",
      "  \"concise_summary\": \"Sieć neuronowa to rodzina modeli, które są inspirowane działaniem mózgu. Mają dużą przestrzeń parametrów i elastyczną strukturę. Sieć neuronowa zdobywa wiedzę poprzez uczenie się i przechowuje ją w wagach synaptycznych.\",\n",
      "  \"writing_style\": \"Naukowy\",\n",
      "  \"key_points\": [\n",
      "    \"Sieć neuronowa to masowo równoległy procesor rozproszony\",\n",
      "    \"Sieć neuronowa zdobywa wiedzę, ucząc się\",\n",
      "    \"Do przechowywania wiedzy wykorzystywane są siły połączeń między neuronami, nazywane wagami synaptycznymi\",\n",
      "    \"Sieć neuronowa może być przybliżeniem różnych modeli statystycznych\",\n",
      "    \"Trudność w interpretacji wag synaptycznych sieci neuronowej\",\n",
      "    \"Sieć neuronowa pozwala na szybsze uzyskanie dobrych wyników, jeśli łatwość interpretacji modelu nie jest ważna\"\n",
      "  ],\n",
      "  \"expert_opinions\": [],\n",
      "  \"metadata\": {}\n",
      "}\n",
      "Czas trwania operacji: 5.072847843170166\n",
      "Zakończono podsumowanie danych!\n",
      "---\n",
      "{\n",
      "  \"concise_summary\": \"Sieć neuronowa to model matematyczny inspirowany działaniem mózgu, który składa się z połączonych ze sobą sztucznych neuronów. Istnieje wiele typów sieci neuronowych, takich jak sieci jednokierunkowe, sieci rekurencyjne i samoorganizujące się mapy. Do budowy sieci neuronowych można używać różnych narzędzi, takich jak Matlab i Statistica Neural Networks. Sieci neuronowe mają szerokie zastosowanie w różnych dziedzinach, takich jak rozpoznawanie obrazów, przetwarzanie języka naturalnego i predykcja danych. Kluczowe punkty dotyczące sieci neuronowych to ich struktura, algorytmy uczenia i zastosowania. Istnieją również różne opinie ekspertów na temat skuteczności i potencjału sieci neuronowych.\",\n",
      "  \"writing_style\": \"Formalny\",\n",
      "  \"key_points\": [\n",
      "    \"Sieć neuronowa to model matematyczny inspirowany działaniem mózgu\",\n",
      "    \"Istnieje wiele typów sieci neuronowych, takich jak sieci jednokierunkowe, sieci rekurencyjne i samoorganizujące się mapy\",\n",
      "    \"Do budowy sieci neuronowych można używać różnych narzędzi, takich jak Matlab i Statistica Neural Networks\",\n",
      "    \"Sieci neuronowe mają szerokie zastosowanie w różnych dziedzinach\",\n",
      "    \"Kluczowe punkty dotyczące sieci neuronowych to ich struktura, algorytmy uczenia i zastosowania\",\n",
      "    \"Istnieją różne opinie ekspertów na temat skuteczności i potencjału sieci neuronowych\"\n",
      "  ],\n",
      "  \"expert_opinions\": [],\n",
      "  \"metadata\": {}\n",
      "}\n"
     ]
    }
   ],
   "source": [
    "summaries = await create_all_summaries(text_documents, parser, llm, text_splitter)"
   ]
  },
  {
   "cell_type": "markdown",
   "metadata": {},
   "source": [
    "---\n",
    "\n",
    "## Expert Interview Questions:\n"
   ]
  },
  {
   "cell_type": "code",
   "execution_count": 10,
   "metadata": {},
   "outputs": [],
   "source": [
    "interview_chain = InterviewChain(topic=TOPIC, document_summaries=summaries)\n",
    "interview_questions = interview_chain()"
   ]
  },
  {
   "cell_type": "markdown",
   "metadata": {},
   "source": [
    "----------------------------------------"
   ]
  },
  {
   "cell_type": "markdown",
   "metadata": {},
   "source": [
    "## Answer The Interview Questions:"
   ]
  },
  {
   "cell_type": "code",
   "execution_count": 11,
   "metadata": {},
   "outputs": [
    {
     "name": "stdout",
     "output_type": "stream",
     "text": [
      "Odpowiedz na następujące pytanie: Jakie są główne typy sieci neuronowych i w jaki sposób się od siebie różnią?\n",
      "\n"
     ]
    },
    {
     "name": "stdin",
     "output_type": "stream",
     "text": [
      "Odpowiedz na następujące pytanie: Jakie są główne typy sieci neuronowych i w jaki sposób się od siebie różnią?\n",
      " Są trzy typy, nie różnią się\n"
     ]
    },
    {
     "name": "stdout",
     "output_type": "stream",
     "text": [
      "------------------------------------------\n",
      "Odpowiedz na następujące pytanie: Jakie narzędzia są najczęściej wykorzystywane do budowy sieci neuronowych i dlaczego?\n",
      "\n"
     ]
    },
    {
     "name": "stdin",
     "output_type": "stream",
     "text": [
      "Odpowiedz na następujące pytanie: Jakie narzędzia są najczęściej wykorzystywane do budowy sieci neuronowych i dlaczego?\n",
      " Tektura i gips\n"
     ]
    },
    {
     "name": "stdout",
     "output_type": "stream",
     "text": [
      "------------------------------------------\n",
      "Odpowiedz na następujące pytanie: W jaki sposób sieć neuronowa zdobywa wiedzę i jak przechowuje ją?\n",
      "\n"
     ]
    },
    {
     "name": "stdin",
     "output_type": "stream",
     "text": [
      "Odpowiedz na następujące pytanie: W jaki sposób sieć neuronowa zdobywa wiedzę i jak przechowuje ją?\n",
      " Trzyma ją w pupie\n"
     ]
    },
    {
     "name": "stdout",
     "output_type": "stream",
     "text": [
      "------------------------------------------\n",
      "Odpowiedz na następujące pytanie: Czy istnieją trudności z interpretacją wag synaptycznych w sieciach neuronowych? Jeśli tak, to dlaczego?\n",
      "\n"
     ]
    },
    {
     "name": "stdin",
     "output_type": "stream",
     "text": [
      "Odpowiedz na następujące pytanie: Czy istnieją trudności z interpretacją wag synaptycznych w sieciach neuronowych? Jeśli tak, to dlaczego?\n",
      " Nie ma trudności\n"
     ]
    },
    {
     "name": "stdout",
     "output_type": "stream",
     "text": [
      "------------------------------------------\n",
      "Odpowiedz na następujące pytanie: W jaki sposób sieci neuronowe mogą być wykorzystane w praktyce w różnych dziedzinach?\n",
      "\n"
     ]
    },
    {
     "name": "stdin",
     "output_type": "stream",
     "text": [
      "Odpowiedz na następujące pytanie: W jaki sposób sieci neuronowe mogą być wykorzystane w praktyce w różnych dziedzinach?\n",
      " Nie mogą być\n"
     ]
    },
    {
     "name": "stdout",
     "output_type": "stream",
     "text": [
      "------------------------------------------\n"
     ]
    }
   ],
   "source": [
    "for question in interview_questions.questions:\n",
    "    print(f\"Odpowiedz na następujące pytanie: {question.question}\\n\", flush=True)\n",
    "    answer = input(f\"Odpowiedz na następujące pytanie: {question.question}\\n\")\n",
    "    print('------------------------------------------')\n",
    "    question.answer = answer"
   ]
  },
  {
   "cell_type": "markdown",
   "metadata": {},
   "source": [
    "---\n",
    "\n",
    "## General Article Outline:\n"
   ]
  },
  {
   "cell_type": "code",
   "execution_count": 12,
   "metadata": {},
   "outputs": [
    {
     "name": "stdout",
     "output_type": "stream",
     "text": [
      "Generowanie zarysu...\n",
      "---\n",
      "Zakończono generowanie zarysu!\n",
      "---\n"
     ]
    }
   ],
   "source": [
    "from article_outline_generation import BlogOutlineGenerator\n",
    "\n",
    "blog_outline_generator = BlogOutlineGenerator(topic=TOPIC, questions_and_answers=[item.dict()  \n",
    "                                                                                  for item in interview_questions.questions ] )\n",
    "questions_and_answers = blog_outline_generator.questions_and_answers\n",
    "outline_result = blog_outline_generator.generate_outline(summaries)"
   ]
  },
  {
   "cell_type": "markdown",
   "metadata": {},
   "source": [
    "---\n",
    "\n",
    "## Article Text Generation:\n"
   ]
  },
  {
   "cell_type": "code",
   "execution_count": 13,
   "metadata": {},
   "outputs": [
    {
     "name": "stdout",
     "output_type": "stream",
     "text": [
      "Generowanie posta na bloga...\n",
      "---\n",
      "Zakończono generowanie posta na bloga!\n",
      "---\n"
     ]
    }
   ],
   "source": [
    "from article_generation import ContentGenerator\n",
    "\n",
    "content_gen = ContentGenerator(topic=TOPIC, outline=outline_result, questions_and_answers=questions_and_answers)\n",
    "\n",
    "# Wektoryzuj i przechowuj źródłowe strony internetowe:\n",
    "content_gen.split_and_vectorize_documents(text_documents)\n",
    "\n",
    "# # Utwórz post na blogu (może zająć kilka minut – prośba o cierpliwość):\n",
    "blog_post = content_gen.generate_blog_post()"
   ]
  },
  {
   "cell_type": "code",
   "execution_count": 14,
   "metadata": {},
   "outputs": [
    {
     "data": {
      "text/plain": [
       "['# Sieć neuronowa jako model matematyczny inspirowany działaniem mózgu\\n\\nSieć neuronowa to masowo równoległy procesor rozproszony, który jest naturalnie predystynowany do gromadzenia wiedzy eksperymentalnej i udostępniania jej w celu wykorzystania. Sieć neuronowa pod dwoma względami przypomina mózg:\\n- Sieć zdobywa wiedzę, ucząc się.\\n- Do przechowywania wiedzy wykorzystywane są siły połączeń między neuronami, nazywane wagami synaptycznymi.\\n\\nPierwsza sieć neuronowa została opracowana przez Warrena McCullocha i Waltera Pittsa w 1943 roku. Napisali oni przełomowy artykuł na temat tego, jak mogą działać neurony, i zademonstrowali swoje pomysły, tworząc prostą sieć neuronową za pomocą obwodów elektrycznych. Ten przełomowy model utorował drogę badaniom nad sieciami neuronowymi w dwóch obszarach: procesy biologiczne w mózgu oraz zastosowanie sieci neuronowych powiązane ze sztuczną inteligencją (AI).\\n\\nSieć neuronowa jest systemem przeznaczonym do przetwarzania informacji, którego budowa i zasada działania są w pewnym stopniu wzorowane na funkcjonowaniu fragmentów rzeczywistego (biologicznego) systemu nerwowego. Choć schematy połączeń neuronów w sieci neuronowej są wybierane arbitralnie i nie stanowią modelu rzeczywistych struktur nerwowych, to jednak opierają się na przesłankach biologicznych.\\n\\nBadania nad sieciami neuronowymi są coraz bardziej rozwijane, a sieci neuronowe znajdują zastosowanie w różnych dziedzinach. Przykładowe zastosowania sieci neuronowych to rozpoznawanie obrazu i mowy, tłumaczenie maszynowe, analiza sieci społecznościowych, gra w gry planszowe i wideo oraz diagnostyka medyczna.\\n\\nW budowie sieci neuronowych wykorzystuje się różne narzędzia, takie jak tektura i gips. Sieć neuronowa zdobywa wiedzę poprzez proces nauki, a przechowuje ją poprzez siły połączeń między neuronami, czyli wagi synaptyczne.\\n\\nPodsumowując, sieć neuronowa jako model matematyczny inspirowany działaniem mózgu jest wykorzystywana do przetwarzania informacji w sposób podobny do funkcjonowania naturalnego systemu nerwowego. Jej zastosowania są szerokie i obejmują wiele dziedzin, gdzie sieci neuronowe są wykorzystywane do rozwiązywania różnorodnych problemów.',\n",
       " '# Proces zdobywania wiedzy przez sieć neuronową\\n\\nSieć neuronowa zdobywa wiedzę poprzez proces nauki, który polega na dostosowywaniu wag synaptycznych między neuronami na podstawie dostarczonych danych wejściowych i oczekiwanych wyników wyjściowych. Proces ten jest znany jako uczenie maszynowe.\\n\\nPodczas uczenia sieć neuronowa jest trenowana na zbiorze danych, który składa się z przykładów wejściowych i odpowiadających im oczekiwanych wyników. Na podstawie tych danych sieć stara się nauczyć i generalizować wzorce występujące w danych, aby potem móc poprawnie przewidywać wyniki dla nowych, nieznanych danych.\\n\\nW procesie uczenia sieci neuronowej najczęściej wykorzystuje się algorytmy propagacji wstecznej. Algorytmy te polegają na iteracyjnym dostosowywaniu wag synaptycznych w celu minimalizacji błędu między wynikami przewidywanymi przez sieć a oczekiwanymi wynikami.\\n\\nWażnym aspektem procesu zdobywania wiedzy przez sieć neuronową jest odpowiedni dobór architektury sieci. Architektura sieci neuronowej określa liczbę warstw neuronów i sposób połączeń między nimi. Różne architektury mogą być bardziej lub mniej odpowiednie do rozwiązywania konkretnych problemów. Dlatego ważne jest, aby odpowiednio dostosować architekturę sieci do konkretnego zadania.\\n\\nPodczas procesu uczenia sieć neuronowa może napotkać różne wyzwania. Jednym z głównych wyzwań jest zjawisko przeuczenia (overfitting), które polega na tym, że sieć nauczyła się idealnie dopasować do danych treningowych, ale nie potrafi dobrze generalizować na nowe dane. Aby temu zapobiec, stosuje się techniki regularyzacji, takie jak dropout czy L1/L2 regularization.\\n\\nInnym wyzwaniem jest interpretowalność wag synaptycznych w sieciach neuronowych. W przypadku prostych sieci jednokierunkowych, znalezienie interpretacji wag synaptycznych może być stosunkowo łatwe. Jednak w przypadku bardziej skomplikowanych sieci, takich jak głębokie sieci neuronowe, interpretacja wag może być trudna lub niemożliwa. W takich przypadkach stosuje się techniki wizualizacji, które pozwalają lepiej zrozumieć, jak sieć neuronowa dokonuje swoich predykcji.\\n\\nPodsumowując, proces zdobywania wiedzy przez sieć neuronową polega na uczeniu się na podstawie dostarczonych danych wejściowych i oczekiwanych wyników. Poprzez dostosowywanie wag synaptycznych sieć stara się nauczyć i generalizować wzorce występujące w danych. Proces ten może napotykać różne wyzwania, takie jak przeuczenie czy trudność w interpretacji wag synaptycznych, które wymagają odpowiednich technik i rozwiązań.',\n",
       " '# Rola analityka SEO w kontekście sieci neuronowych\\n\\nAnalityk SEO pełni kluczową rolę w wykorzystaniu sieci neuronowych w kontekście optymalizacji stron internetowych pod kątem wyszukiwarek. Sieci neuronowe, dzięki swojej zdolności do uczenia się i analizowania danych, mogą być użyteczne w procesie optymalizacji stron internetowych pod kątem wyszukiwarek, a analityk SEO może odegrać istotną rolę w tym procesie.\\n\\nOto kilka istotnych spostrzeżeń dotyczących roli analityka SEO w kontekście sieci neuronowych:\\n\\n1. Analiza danych: Analityk SEO może zbierać dane dotyczące ruchu na stronie, słów kluczowych, trendów wyszukiwania i innych czynników wpływających na pozycjonowanie strony w wyszukiwarkach. Sieci neuronowe mogą być wykorzystane do analizy tych danych i identyfikacji wzorców, które mogą pomóc w optymalizacji strony.\\n\\n2. Predykcje i prognozowanie: Sieci neuronowe mogą być użyte do predykcji i prognozowania zmian w algorytmach wyszukiwarek oraz wskazywania, jakie działania mogą mieć pozytywny wpływ na pozycjonowanie strony. Analityk SEO może wykorzystać te prognozy do podejmowania odpowiednich działań w celu poprawy widoczności strony w wynikach wyszukiwania.\\n\\n3. Personalizacja treści: Sieci neuronowe mogą pomóc w personalizacji treści na stronie, tak aby były bardziej atrakcyjne dla użytkowników i lepiej dopasowane do ich preferencji. Analityk SEO może wykorzystać te informacje do tworzenia treści, które będą bardziej efektywne w przyciąganiu użytkowników i poprawianiu pozycji strony w wyszukiwarkach.\\n\\n4. Optymalizacja kodu: Sieci neuronowe mogą być wykorzystane do analizy kodu strony i identyfikacji potencjalnych problemów, które mogą wpływać na jej wydajność i pozycjonowanie w wyszukiwarkach. Analityk SEO może wykorzystać te informacje do usprawnienia kodu strony i poprawy jej widoczności w wynikach wyszukiwania.\\n\\n5. Monitorowanie konkurencji: Sieci neuronowe mogą pomóc w monitorowaniu działań konkurencji i identyfikacji strategii, które mogą mieć pozytywny wpływ na pozycjonowanie strony. Analityk SEO może wykorzystać te informacje do opracowania odpowiednich strategii i taktyk, które pozwolą osiągnąć przewagę konkurencyjną.\\n\\nPodsumowując, analityk SEO odgrywa ważną rolę w wykorzystaniu sieci neuronowych w kontekście optymalizacji stron internetowych pod kątem wyszukiwarek. Sieci neuronowe mogą być użyteczne w analizie danych, predykcji i prognozowaniu, personalizacji treści, optymalizacji kodu oraz monitorowaniu konkurencji. Współpraca między analitykiem SEO a sieciami neuronowymi może przynieść pozytywne rezultaty w zakresie poprawy widoczności strony w wynikach wyszukiwania.']"
      ]
     },
     "execution_count": 14,
     "metadata": {},
     "output_type": "execute_result"
    }
   ],
   "source": [
    "blog_post"
   ]
  },
  {
   "cell_type": "markdown",
   "metadata": {},
   "source": [
    "-----\n",
    "\n",
    "## Image Creation:"
   ]
  },
  {
   "cell_type": "code",
   "execution_count": 15,
   "metadata": {},
   "outputs": [
    {
     "name": "stdin",
     "output_type": "stream",
     "text": [
      "Enter your Stability API key:  ········\n"
     ]
    }
   ],
   "source": [
    "from image_generation_chain import create_image\n",
    "image = create_image(outline_result.title)"
   ]
  },
  {
   "cell_type": "code",
   "execution_count": null,
   "metadata": {},
   "outputs": [],
   "source": [
    "print(f\"Obrazek jest gotowy! Ścieżka do obrazku to {image[0]}\")"
   ]
  },
  {
   "cell_type": "code",
   "execution_count": null,
   "metadata": {},
   "outputs": [],
   "source": []
  }
 ],
 "metadata": {
  "kernelspec": {
   "display_name": "Python 3 (ipykernel)",
   "language": "python",
   "name": "python3"
  },
  "language_info": {
   "codemirror_mode": {
    "name": "ipython",
    "version": 3
   },
   "file_extension": ".py",
   "mimetype": "text/x-python",
   "name": "python",
   "nbconvert_exporter": "python",
   "pygments_lexer": "ipython3",
   "version": "3.11.3"
  }
 },
 "nbformat": 4,
 "nbformat_minor": 4
}
