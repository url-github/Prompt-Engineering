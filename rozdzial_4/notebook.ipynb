{
 "cells": [
  {
   "cell_type": "markdown",
   "id": "0d461dbb-7440-4bbf-9e40-77219ec5a0cc",
   "metadata": {},
   "source": [
    "# Generator dowcipów z wykorzystaniem frameworka LangChain"
   ]
  },
  {
   "cell_type": "code",
   "execution_count": 1,
   "id": "e9f5f5ea-efeb-45a3-ab80-11f1aac968e8",
   "metadata": {},
   "outputs": [
    {
     "data": {
      "text/plain": [
       "True"
      ]
     },
     "execution_count": 1,
     "metadata": {},
     "output_type": "execute_result"
    }
   ],
   "source": [
    "from dotenv import load_dotenv\n",
    "load_dotenv()"
   ]
  },
  {
   "cell_type": "code",
   "execution_count": 3,
   "id": "ce699494-2003-4fa9-8891-526ab11774eb",
   "metadata": {},
   "outputs": [
    {
     "name": "stdout",
     "output_type": "stream",
     "text": [
      "Oczywiście! Oto jeden z moich ulubionych żartów o inżynierach oprogramowania:\n",
      "\n",
      "Dlaczego inżynierowie oprogramowania nie lubią spotykać się na plaży?\n",
      "\n",
      "Bo boją się, że zostaną wyburzeni przez fale z powodu braku kontroli dostępu!\n",
      "[AIMessage(content='Oczywiście! Oto jeden z moich ulubionych żartów o inżynierach oprogramowania:\\n\\nDlaczego inżynierowie oprogramowania nie lubią chodzić na spacery?\\n\\nBo mają za dużo bugów do naprawienia!', additional_kwargs={'refusal': None}, response_metadata={'token_usage': {'completion_tokens': 63, 'prompt_tokens': 54, 'total_tokens': 117, 'completion_tokens_details': {'accepted_prediction_tokens': 0, 'audio_tokens': 0, 'reasoning_tokens': 0, 'rejected_prediction_tokens': 0}, 'prompt_tokens_details': {'audio_tokens': 0, 'cached_tokens': 0}}, 'model_name': 'gpt-3.5-turbo-0125', 'system_fingerprint': None, 'finish_reason': 'stop', 'logprobs': None}, id='run-3b5598d1-95df-4fed-993d-a7a46d49b94a-0', usage_metadata={'input_tokens': 54, 'output_tokens': 63, 'total_tokens': 117, 'input_token_details': {'audio': 0, 'cache_read': 0}, 'output_token_details': {'audio': 0, 'reasoning': 0}}), AIMessage(content='Oczywiście! Oto jeden z moich ulubionych żartów o inżynierach oprogramowania:\\n\\nDlaczego inżynierowie oprogramowania nie lubią chodzić na spacery?\\nBo mają problem z debugowaniem rzeczywistości!', additional_kwargs={'refusal': None}, response_metadata={'token_usage': {'completion_tokens': 64, 'prompt_tokens': 54, 'total_tokens': 118, 'completion_tokens_details': {'accepted_prediction_tokens': 0, 'audio_tokens': 0, 'reasoning_tokens': 0, 'rejected_prediction_tokens': 0}, 'prompt_tokens_details': {'audio_tokens': 0, 'cached_tokens': 0}}, 'model_name': 'gpt-3.5-turbo-0125', 'system_fingerprint': None, 'finish_reason': 'stop', 'logprobs': None}, id='run-1caf9f8b-562c-4892-a9ad-d0fa13d22e07-0', usage_metadata={'input_tokens': 54, 'output_tokens': 64, 'total_tokens': 118, 'input_token_details': {'audio': 0, 'cache_read': 0}, 'output_token_details': {'audio': 0, 'reasoning': 0}})]\n"
     ]
    }
   ],
   "source": [
    "from langchain_openai.chat_models import ChatOpenAI\n",
    "from langchain.schema import AIMessage, HumanMessage, SystemMessage\n",
    "\n",
    "chat = ChatOpenAI(api_key=\"OPENAI_API_KEY\")\n",
    "\n",
    "chat = ChatOpenAI(temperature=0.5)\n",
    "messages = [SystemMessage(content='''Jesteś starszym inżynierem oprogramowania w firmie typu startup.'''),\n",
    "HumanMessage(content='''Czy możesz przedstawić zabawny żart o inżynierach oprogramowania?''')]\n",
    "response = chat.invoke(input=messages)\n",
    "print(response.content)\n",
    "synchronous_llm_result = chat.batch([messages]*2)\n",
    "print(synchronous_llm_result)"
   ]
  },
  {
   "cell_type": "code",
   "execution_count": null,
   "id": "191f00d0-fb66-4ac1-b1c6-072f2e4c3d66",
   "metadata": {},
   "outputs": [],
   "source": []
  }
 ],
 "metadata": {
  "kernelspec": {
   "display_name": "Python 3 (ipykernel)",
   "language": "python",
   "name": "python3"
  },
  "language_info": {
   "codemirror_mode": {
    "name": "ipython",
    "version": 3
   },
   "file_extension": ".py",
   "mimetype": "text/x-python",
   "name": "python",
   "nbconvert_exporter": "python",
   "pygments_lexer": "ipython3",
   "version": "3.11.4"
  }
 },
 "nbformat": 4,
 "nbformat_minor": 5
}
