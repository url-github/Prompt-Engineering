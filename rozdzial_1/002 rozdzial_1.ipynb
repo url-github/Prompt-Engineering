{
 "cells": [
  {
   "cell_type": "markdown",
   "id": "cb32a0f6-80aa-4934-9586-880c4a058268",
   "metadata": {},
   "source": [
    "# script.py"
   ]
  },
  {
   "cell_type": "code",
   "execution_count": 2,
   "id": "47e97636-9a51-4c7f-823c-81e9f495615f",
   "metadata": {},
   "outputs": [
    {
     "name": "stdout",
     "output_type": "stream",
     "text": [
      "  variant                                             prompt  \\\n",
      "0       A  Opis produktu: Buty, które pasują dla każdego ...   \n",
      "1       A  Opis produktu: Buty, które pasują dla każdego ...   \n",
      "2       A  Opis produktu: Buty, które pasują dla każdego ...   \n",
      "3       A  Opis produktu: Buty, które pasują dla każdego ...   \n",
      "4       A  Opis produktu: Buty, które pasują dla każdego ...   \n",
      "5       B  Opis produktu: Automat do przygotowania mleczn...   \n",
      "6       B  Opis produktu: Automat do przygotowania mleczn...   \n",
      "7       B  Opis produktu: Automat do przygotowania mleczn...   \n",
      "8       B  Opis produktu: Automat do przygotowania mleczn...   \n",
      "9       B  Opis produktu: Automat do przygotowania mleczn...   \n",
      "\n",
      "                                            response  \n",
      "0  1. Dostosowujące buty UniFit\\n2. Uniwersalne b...  \n",
      "1  1. UniSize Shoes\\n2. FlexFit Footwear\\n3. OneS...  \n",
      "2  1. UniFit Shoes\\n2. MultiSize Sneakers\\n3. Fle...  \n",
      "3  1. Dostosowane buty\\n2. Dopasowana obuwie\\n3. ...  \n",
      "4  1. Dostosowana doskonałość\\n2. Uniwersalny kom...  \n",
      "5  UniFit Shoes, FlexSize Footwear, PerfectFit Fo...  \n",
      "6       SizeFlex, UniFit, StretchoShoes, PerfectFit.  \n",
      "7               FootFlex, SizeFit, AllFit, SoleMate.  \n",
      "8             FlexFit, OneSize, AdaptSole, ComfyFit.  \n",
      "9  FlexFit Shoe, UniversalSole, CustomStep, Adapt...  \n"
     ]
    },
    {
     "data": {
      "text/plain": [
       "'\\nOpis działania kodu:\\nTen skrypt testuje dwa różne warianty promptów do generowania nazw produktów przy użyciu modelu GPT-3.5-turbo.\\nNajpierw wczytywane są zmienne środowiskowe, w tym klucz OpenAI API. Następnie definiowane są dwa prompty - jeden \\nz minimalną ilością przykładów, a drugi z większą liczbą przykładów. Każdy prompt jest testowany pięć razy \\n(z możliwością łatwego zwiększenia liczby testów). Wyniki są zbierane w obiekcie Pandas DataFrame i zapisywane \\ndo pliku CSV, co pozwala na późniejszą analizę.\\n\\nZastosowanie:\\n- Porównanie skuteczności różnych wariantów promptów.\\n- Analiza jakości generowanych odpowiedzi.\\n- Tworzenie benchmarków dla różnych modeli AI.\\n'"
      ]
     },
     "execution_count": 2,
     "metadata": {},
     "output_type": "execute_result"
    }
   ],
   "source": [
    "from dotenv import load_dotenv\n",
    "load_dotenv()  # Wczytaj zmienne środowiskowe z pliku .env, aby móc korzystać z ukrytych kluczy API.\n",
    "\n",
    "# Definicja dwóch wariantów promptów do testowania generowania nazw produktów\n",
    "prompt_A = \"\"\"Opis produktu: Buty, które pasują dla każdego rozmiaru stopy.\n",
    "Słowa początkowe: dostosowanie, dopasowanie, uniwersalny rozmiar\n",
    "Nazwy produktów:\"\"\"\n",
    "\n",
    "prompt_B = \"\"\"Opis produktu: Automat do przygotowania mlecznych koktajli w domu.\n",
    "Słowa początkowe: szybki, zdrowy, kompaktowy.\n",
    "Nazwy produktów: HomeShaker, Fit Shaker, QuickShake, Shake Maker\n",
    "Opis produktu: Zegarek, który podaje dokładny czas w przestrzeni kosmicznej\n",
    "Słowa początkowe: astronauta, odporne na przestrzeń kosmiczną, orbita eliptyczna\n",
    "Nazwy produktów: AstroTime, SpaceGuard, Orbit-Accurate, EliptoTime.\n",
    "Opis produktu: Buty, które pasują dla każdego rozmiaru stopy.\n",
    "Słowa początkowe: dostosowanie, dopasowanie, uniwersalny rozmiar\n",
    "Nazwy produktów:\"\"\"\n",
    "\n",
    "# Lista testowanych promptów\n",
    "test_prompts = [prompt_A, prompt_B]\n",
    "\n",
    "import pandas as pd  # Biblioteka do obsługi danych tabelarycznych\n",
    "from openai import OpenAI  # Import klienta OpenAI do obsługi API\n",
    "import os  # Moduł do zarządzania zmiennymi środowiskowymi\n",
    "\n",
    "# Tworzenie klienta OpenAI z kluczem API przechowywanym w zmiennej środowiskowej\n",
    "client = OpenAI(\n",
    "    api_key=os.environ['OPENAI_API_KEY'],  # Pobranie klucza API z systemowych zmiennych środowiskowych\n",
    ")\n",
    "\n",
    "def get_response(prompt):\n",
    "    \"\"\"Funkcja do uzyskania odpowiedzi z modelu GPT na podany prompt.\"\"\"\n",
    "    response = client.chat.completions.create(\n",
    "        model=\"gpt-3.5-turbo\",  # Model używany do generowania odpowiedzi\n",
    "        messages=[\n",
    "            {\"role\": \"system\", \"content\": \"Jesteś pomocnym asystentem.\"},  # Kontekst dla modelu\n",
    "            {\"role\": \"user\", \"content\": prompt}  # Właściwy prompt przekazany do modelu\n",
    "        ]\n",
    "    )\n",
    "    return response.choices[0].message.content  # Zwrócenie treści pierwszej wygenerowanej odpowiedzi\n",
    "\n",
    "responses = []  # Lista na zebrane odpowiedzi\n",
    "num_tests = 5  # Liczba testów dla każdego prompta\n",
    "\n",
    "for idx, prompt in enumerate(test_prompts):  # Iteracja po promptach\n",
    "    var_name = chr(ord('A') + idx)  # Zamiana indeksu na literę (A, B, C...)\n",
    "    \n",
    "    for i in range(num_tests):  # Wykonanie testów wielokrotnie dla lepszego porównania\n",
    "        response = get_response(prompt)  # Pobranie odpowiedzi od modelu\n",
    "        data = {\n",
    "            \"variant\": var_name,  # Oznaczenie wariantu (A/B)\n",
    "            \"prompt\": prompt,  # Treść prompta\n",
    "            \"response\": response  # Odpowiedź modelu\n",
    "        }\n",
    "        responses.append(data)  # Dodanie wyniku do listy\n",
    "\n",
    "# Konwersja wyników na obiekt DataFrame (tabelę Pandas)\n",
    "df = pd.DataFrame(responses)\n",
    "\n",
    "# Zapis wyników do pliku CSV\n",
    "df.to_csv(\"odpowiedzi.csv\", index=False)\n",
    "\n",
    "# Wyświetlenie tabeli w terminalu\n",
    "print(df)\n",
    "\n",
    "\"\"\"\n",
    "Opis działania kodu:\n",
    "Ten skrypt testuje dwa różne warianty promptów do generowania nazw produktów przy użyciu modelu GPT-3.5-turbo.\n",
    "Najpierw wczytywane są zmienne środowiskowe, w tym klucz OpenAI API. Następnie definiowane są dwa prompty - jeden \n",
    "z minimalną ilością przykładów, a drugi z większą liczbą przykładów. Każdy prompt jest testowany pięć razy \n",
    "(z możliwością łatwego zwiększenia liczby testów). Wyniki są zbierane w obiekcie Pandas DataFrame i zapisywane \n",
    "do pliku CSV, co pozwala na późniejszą analizę.\n",
    "\n",
    "Zastosowanie:\n",
    "- Porównanie skuteczności różnych wariantów promptów.\n",
    "- Analiza jakości generowanych odpowiedzi.\n",
    "- Tworzenie benchmarków dla różnych modeli AI.\n",
    "\"\"\""
   ]
  },
  {
   "cell_type": "markdown",
   "id": "087aa814-36ba-4119-9cde-0ddda979ecf5",
   "metadata": {},
   "source": [
    "# script2.py"
   ]
  },
  {
   "cell_type": "code",
   "execution_count": 3,
   "id": "b6c01ab3-d1b6-4551-91ee-1a6e6285bdb1",
   "metadata": {},
   "outputs": [
    {
     "data": {
      "application/vnd.jupyter.widget-view+json": {
       "model_id": "9465d16653024a5cb799b2ed0b9d4618",
       "version_major": 2,
       "version_minor": 0
      },
      "text/plain": [
       "HTML(value='<p>1. UniSize Shoes\\n2. FlexFit Footwear\\n3. OneSize Fits All Boots\\n4. AdaptiFit Sneakers\\n5. Uni…"
      ]
     },
     "metadata": {},
     "output_type": "display_data"
    },
    {
     "data": {
      "application/vnd.jupyter.widget-view+json": {
       "model_id": "3dbb28a301bc4212a83bd653dcee468b",
       "version_major": 2,
       "version_minor": 0
      },
      "text/plain": [
       "HBox(children=(Button(description='👎', style=ButtonStyle()), Button(description='👍', style=ButtonStyle())))"
      ]
     },
     "metadata": {},
     "output_type": "display_data"
    },
    {
     "data": {
      "application/vnd.jupyter.widget-view+json": {
       "model_id": "efecc34973d546b7919bda15bef22f95",
       "version_major": 2,
       "version_minor": 0
      },
      "text/plain": [
       "Label(value='Odpowiedź: 1/10')"
      ]
     },
     "metadata": {},
     "output_type": "display_data"
    },
    {
     "data": {
      "text/plain": [
       "'\\nOpis działania kodu:\\nTen skrypt implementuje system testów A/B dla odpowiedzi generowanych przez model LLM.\\nPozwala użytkownikowi oceniać odpowiedzi poprzez kliknięcie kciuka w górę (pozytywna ocena) lub kciuka w dół (negatywna ocena).\\nPo ocenie wszystkich odpowiedzi wyniki są zapisywane do pliku \"results.csv\",\\na podsumowanie wyświetlane jest w konsoli. \\n\\nZastosowanie:\\n- Testowanie różnych wariantów promptów i ich wpływu na odpowiedzi modelu\\n- Porównywanie jakości odpowiedzi w zależności od wersji modelu lub parametrów\\n- Uproszczenie procesu zbierania opinii użytkowników na temat generowanych treści\\n'"
      ]
     },
     "execution_count": 3,
     "metadata": {},
     "output_type": "execute_result"
    }
   ],
   "source": [
    "from dotenv import load_dotenv\n",
    "load_dotenv()  # Wczytaj zmienne środowiskowe z pliku .env, np. klucze API\n",
    "\n",
    "import ipywidgets as widgets  # Biblioteka do tworzenia interaktywnych widżetów w Jupyter Notebook\n",
    "from IPython.display import display  # Funkcja do wyświetlania elementów interfejsu\n",
    "import pandas as pd  # Biblioteka do pracy z danymi w postaci tabelarycznej (ramki danych Pandas)\n",
    "\n",
    "# Wczytaj dane z pliku CSV zawierającego odpowiedzi\n",
    "# Plik \"odpowiedzi.csv\" powinien zawierać wygenerowane odpowiedzi dla testów A/B\n",
    "# Każdy wiersz to jedna odpowiedź modelu LLM w danym wariancie testowym\n",
    "\n",
    "df = pd.read_csv(\"odpowiedzi.csv\") \n",
    "\n",
    "# Wymieszaj dane, aby użytkownik nie oceniał odpowiedzi w określonej kolejności\n",
    "# `frac=1` oznacza, że bierzemy 100% danych i je mieszamy\n",
    "# `reset_index(drop=True)` resetuje indeksy po przetasowaniu\n",
    "\n",
    "df = df.sample(frac=1).reset_index(drop=True)\n",
    "\n",
    "# Zmienna przechowująca numer aktualnie ocenianej odpowiedzi\n",
    "response_index = 0  # Start od pierwszego rekordu\n",
    "\n",
    "# Dodaj nową kolumnę do ramki danych, w której będziemy przechowywać informacje zwrotne\n",
    "# Typ `str` oznacza, że wartości w tej kolumnie będą tekstowe (choć zapisujemy liczby 0 i 1)\n",
    "df['feedback'] = pd.Series(dtype='str')\n",
    "\n",
    "def on_button_clicked(b):\n",
    "    \"\"\"\n",
    "    Funkcja wywoływana po kliknięciu przycisku \"kciuk w górę\" lub \"kciuk w dół\".\n",
    "    Aktualizuje ocenę odpowiedzi i przechodzi do kolejnej.\n",
    "    \"\"\"\n",
    "    global response_index  # Odwołanie do zmiennej globalnej przechowującej indeks\n",
    "    \n",
    "    # Przypisz wartość 1 dla kciuka w górę, 0 dla kciuka w dół\n",
    "    user_feedback = 1 if b.description == \"\\U0001F44D\" else 0  \n",
    "    \n",
    "    # Zaktualizuj kolumnę \"feedback\" w danym wierszu\n",
    "    df.at[response_index, 'feedback'] = user_feedback\n",
    "    \n",
    "    # Przejdź do następnej odpowiedzi\n",
    "    response_index += 1\n",
    "    \n",
    "    # Jeśli nadal są odpowiedzi do oceny, wyświetl kolejną\n",
    "    if response_index < len(df):\n",
    "        update_response()\n",
    "    else:\n",
    "        # Po zakończeniu oceniania zapisujemy dane do pliku \"results.csv\"\n",
    "        df.to_csv(\"results.csv\", index=False)\n",
    "        print(\"Zakończono testy A/B. Oto wyniki:\")\n",
    "        \n",
    "        # Podsumowanie wyników: liczba ocen i średnia ocena dla każdego wariantu\n",
    "        summary_df = df.groupby('variant').agg(\n",
    "            count=('feedback', 'count'),  # Liczba ocenionych odpowiedzi\n",
    "            score=('feedback', 'mean')   # Średni wynik (0-1) dla każdego wariantu\n",
    "        ).reset_index()\n",
    "        print(summary_df)  # Wyświetl podsumowanie\n",
    "\n",
    "def update_response():\n",
    "    \"\"\"\n",
    "    Funkcja aktualizująca wyświetlaną odpowiedź w widżecie HTML.\n",
    "    \"\"\"\n",
    "    new_response = df.iloc[response_index]['response']  # Pobierz aktualną odpowiedź\n",
    "    \n",
    "    # Jeśli odpowiedź istnieje, sformatuj ją jako HTML\n",
    "    if pd.notna(new_response):\n",
    "        new_response = \"<p>\" + new_response + \"</p>\"\n",
    "    else:\n",
    "        new_response = \"<p>Brak odpowiedzi</p>\"\n",
    "    \n",
    "    response.value = new_response  # Zaktualizuj treść wyświetlanej odpowiedzi\n",
    "    count_label.value = f\"Odpowiedź: {response_index + 1}/{len(df)}\"  # Wyświetl liczbę ocenionych odpowiedzi\n",
    "\n",
    "# Utworzenie interfejsu użytkownika\n",
    "response = widgets.HTML()  # Widżet do wyświetlania treści odpowiedzi\n",
    "count_label = widgets.Label()  # Widżet do wyświetlania numeru odpowiedzi\n",
    "update_response()  # Zainicjalizowanie pierwszej odpowiedzi\n",
    "\n",
    "# Utworzenie przycisków do oceny odpowiedzi\n",
    "thumbs_up_button = widgets.Button(description='\\U0001F44D')  # Kciuk w górę\n",
    "thumbs_up_button.on_click(on_button_clicked)  # Po kliknięciu wywołuje funkcję oceny\n",
    "\n",
    "thumbs_down_button = widgets.Button(description='\\U0001F44E')  # Kciuk w dół\n",
    "thumbs_down_button.on_click(on_button_clicked)  # Po kliknięciu wywołuje funkcję oceny\n",
    "\n",
    "# Rozmieszczenie przycisków w poziomie\n",
    "button_box = widgets.HBox([thumbs_down_button, thumbs_up_button])\n",
    "\n",
    "# Wyświetlenie interfejsu w Jupyter Notebook\n",
    "display(response, button_box, count_label)\n",
    "\n",
    "\"\"\"\n",
    "Opis działania kodu:\n",
    "Ten skrypt implementuje system testów A/B dla odpowiedzi generowanych przez model LLM.\n",
    "Pozwala użytkownikowi oceniać odpowiedzi poprzez kliknięcie kciuka w górę (pozytywna ocena) lub kciuka w dół (negatywna ocena).\n",
    "Po ocenie wszystkich odpowiedzi wyniki są zapisywane do pliku \"results.csv\",\n",
    "a podsumowanie wyświetlane jest w konsoli. \n",
    "\n",
    "Zastosowanie:\n",
    "- Testowanie różnych wariantów promptów i ich wpływu na odpowiedzi modelu\n",
    "- Porównywanie jakości odpowiedzi w zależności od wersji modelu lub parametrów\n",
    "- Uproszczenie procesu zbierania opinii użytkowników na temat generowanych treści\n",
    "\"\"\"\n"
   ]
  }
 ],
 "metadata": {
  "kernelspec": {
   "display_name": "Python 3 (ipykernel)",
   "language": "python",
   "name": "python3"
  },
  "language_info": {
   "codemirror_mode": {
    "name": "ipython",
    "version": 3
   },
   "file_extension": ".py",
   "mimetype": "text/x-python",
   "name": "python",
   "nbconvert_exporter": "python",
   "pygments_lexer": "ipython3",
   "version": "3.11.4"
  }
 },
 "nbformat": 4,
 "nbformat_minor": 5
}
