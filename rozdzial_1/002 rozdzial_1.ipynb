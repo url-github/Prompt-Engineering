{
 "cells": [
  {
   "cell_type": "markdown",
   "id": "cb32a0f6-80aa-4934-9586-880c4a058268",
   "metadata": {},
   "source": [
    "# script.py"
   ]
  },
  {
   "cell_type": "code",
   "execution_count": null,
   "id": "47e97636-9a51-4c7f-823c-81e9f495615f",
   "metadata": {},
   "outputs": [],
   "source": [
    "from dotenv import load_dotenv\n",
    "load_dotenv()  # Wczytaj zmienne środowiskowe z pliku .env, aby móc korzystać z ukrytych kluczy API.\n",
    "\n",
    "# Definicja dwóch wariantów promptów do testowania generowania nazw produktów\n",
    "prompt_A = \"\"\"Opis produktu: Buty, które pasują dla każdego rozmiaru stopy.\n",
    "Słowa początkowe: dostosowanie, dopasowanie, uniwersalny rozmiar\n",
    "Nazwy produktów:\"\"\"\n",
    "\n",
    "prompt_B = \"\"\"Opis produktu: Automat do przygotowania mlecznych koktajli w domu.\n",
    "Słowa początkowe: szybki, zdrowy, kompaktowy.\n",
    "Nazwy produktów: HomeShaker, Fit Shaker, QuickShake, Shake Maker\n",
    "Opis produktu: Zegarek, który podaje dokładny czas w przestrzeni kosmicznej\n",
    "Słowa początkowe: astronauta, odporne na przestrzeń kosmiczną, orbita eliptyczna\n",
    "Nazwy produktów: AstroTime, SpaceGuard, Orbit-Accurate, EliptoTime.\n",
    "Opis produktu: Buty, które pasują dla każdego rozmiaru stopy.\n",
    "Słowa początkowe: dostosowanie, dopasowanie, uniwersalny rozmiar\n",
    "Nazwy produktów:\"\"\"\n",
    "\n",
    "# Lista testowanych promptów\n",
    "test_prompts = [prompt_A, prompt_B]\n",
    "\n",
    "import pandas as pd  # Biblioteka do obsługi danych tabelarycznych\n",
    "from openai import OpenAI  # Import klienta OpenAI do obsługi API\n",
    "import os  # Moduł do zarządzania zmiennymi środowiskowymi\n",
    "\n",
    "# Tworzenie klienta OpenAI z kluczem API przechowywanym w zmiennej środowiskowej\n",
    "client = OpenAI(\n",
    "    api_key=os.environ['OPENAI_API_KEY'],  # Pobranie klucza API z systemowych zmiennych środowiskowych\n",
    ")\n",
    "\n",
    "def get_response(prompt):\n",
    "    \"\"\"Funkcja do uzyskania odpowiedzi z modelu GPT na podany prompt.\"\"\"\n",
    "    response = client.chat.completions.create(\n",
    "        model=\"gpt-3.5-turbo\",  # Model używany do generowania odpowiedzi\n",
    "        messages=[\n",
    "            {\"role\": \"system\", \"content\": \"Jesteś pomocnym asystentem.\"},  # Kontekst dla modelu\n",
    "            {\"role\": \"user\", \"content\": prompt}  # Właściwy prompt przekazany do modelu\n",
    "        ]\n",
    "    )\n",
    "    return response.choices[0].message.content  # Zwrócenie treści pierwszej wygenerowanej odpowiedzi\n",
    "\n",
    "responses = []  # Lista na zebrane odpowiedzi\n",
    "num_tests = 5  # Liczba testów dla każdego prompta\n",
    "\n",
    "for idx, prompt in enumerate(test_prompts):  # Iteracja po promptach\n",
    "    var_name = chr(ord('A') + idx)  # Zamiana indeksu na literę (A, B, C...)\n",
    "    \n",
    "    for i in range(num_tests):  # Wykonanie testów wielokrotnie dla lepszego porównania\n",
    "        response = get_response(prompt)  # Pobranie odpowiedzi od modelu\n",
    "        data = {\n",
    "            \"variant\": var_name,  # Oznaczenie wariantu (A/B)\n",
    "            \"prompt\": prompt,  # Treść prompta\n",
    "            \"response\": response  # Odpowiedź modelu\n",
    "        }\n",
    "        responses.append(data)  # Dodanie wyniku do listy\n",
    "\n",
    "# Konwersja wyników na obiekt DataFrame (tabelę Pandas)\n",
    "df = pd.DataFrame(responses)\n",
    "\n",
    "# Zapis wyników do pliku CSV\n",
    "df.to_csv(\"odpowiedzi.csv\", index=False)\n",
    "\n",
    "# Wyświetlenie tabeli w terminalu\n",
    "print(df)\n",
    "\n",
    "\"\"\"\n",
    "Opis działania kodu:\n",
    "Ten skrypt testuje dwa różne warianty promptów do generowania nazw produktów przy użyciu modelu GPT-3.5-turbo.\n",
    "Najpierw wczytywane są zmienne środowiskowe, w tym klucz OpenAI API. Następnie definiowane są dwa prompty - jeden \n",
    "z minimalną ilością przykładów, a drugi z większą liczbą przykładów. Każdy prompt jest testowany pięć razy \n",
    "(z możliwością łatwego zwiększenia liczby testów). Wyniki są zbierane w obiekcie Pandas DataFrame i zapisywane \n",
    "do pliku CSV, co pozwala na późniejszą analizę.\n",
    "\n",
    "Zastosowanie:\n",
    "- Porównanie skuteczności różnych wariantów promptów.\n",
    "- Analiza jakości generowanych odpowiedzi.\n",
    "- Tworzenie benchmarków dla różnych modeli AI.\n",
    "\"\"\""
   ]
  },
  {
   "cell_type": "markdown",
   "id": "087aa814-36ba-4119-9cde-0ddda979ecf5",
   "metadata": {},
   "source": [
    "# script2.py"
   ]
  },
  {
   "cell_type": "code",
   "execution_count": 1,
   "id": "b6c01ab3-d1b6-4551-91ee-1a6e6285bdb1",
   "metadata": {},
   "outputs": [
    {
     "data": {
      "application/vnd.jupyter.widget-view+json": {
       "model_id": "63edc5bb1bd1492caa416caedcec4947",
       "version_major": 2,
       "version_minor": 0
      },
      "text/plain": [
       "HTML(value='<p>1. UniFitShoes\\n2. PerfectFit Footwear\\n3. AllSize Adapt Shoes\\n4. UniversalStep Sneakers\\n5. I…"
      ]
     },
     "metadata": {},
     "output_type": "display_data"
    },
    {
     "data": {
      "application/vnd.jupyter.widget-view+json": {
       "model_id": "875034817ed44c1a8d4a6e2b82aca169",
       "version_major": 2,
       "version_minor": 0
      },
      "text/plain": [
       "HBox(children=(Button(description='👎', style=ButtonStyle()), Button(description='👍', style=ButtonStyle())))"
      ]
     },
     "metadata": {},
     "output_type": "display_data"
    },
    {
     "data": {
      "application/vnd.jupyter.widget-view+json": {
       "model_id": "9d741cd073a142d7a99f2b21ec0c4ff6",
       "version_major": 2,
       "version_minor": 0
      },
      "text/plain": [
       "Label(value='Odpowiedź: 1/10')"
      ]
     },
     "metadata": {},
     "output_type": "display_data"
    }
   ],
   "source": [
    "from dotenv import load_dotenv\n",
    "load_dotenv() # wczytaj zmienne środowiskowe z pliku .env.\n",
    "\n",
    "import ipywidgets as widgets\n",
    "from IPython.display import display \n",
    "import pandas as pd\n",
    "# Wczytaj plik odpowiedzi.csv\n",
    "df = pd.read_csv(\"odpowiedzi.csv\") # Wymieszaj ramkę danych\n",
    "df = df.sample(frac=1).reset_index(drop=True)\n",
    "# df to Twoja ramka danych, a response to kolumna zawierająca numer tekstu, który chcesz sprawdzić\n",
    "response_index = 0\n",
    "# dodaj nową kolumnę w celu przechowania informacji zwrotnej\n",
    "df['feedback'] = pd.Series(dtype='str')\n",
    "def on_button_clicked(b):\n",
    "    global response_index\n",
    "    # podmień kciuki w górę i w dół na jedynki i zera\n",
    "    user_feedback = 1 if b.description == \"\\U0001F44D\" else 0\n",
    "    # zaktalizuj kolumnę feedback \n",
    "    df.at[response_index, 'feedback'] = user_feedback\n",
    "    response_index += 1\n",
    "    if response_index < len(df):\n",
    "        update_response() \n",
    "    else:\n",
    "        # zapisz informację zwrotną do pliku CSV\n",
    "        df.to_csv(\"results.csv\", index=False)\n",
    "        print(\"Zakończono testy A/B. Oto wyniki: \") \n",
    "        # Policz wynik i liczbę wierszy dla każdego z wariantów \n",
    "        summary_df = df.groupby('variant').agg(\n",
    "                count=('feedback', 'count'),\n",
    "                score=('feedback', 'mean')).reset_index()\n",
    "        print(summary_df)\n",
    "def update_response():\n",
    "    new_response = df.iloc[response_index]['response'] \n",
    "    if pd.notna(new_response):\n",
    "        new_response = \"<p>\" + new_response + \"</p>\" \n",
    "    else:\n",
    "        new_response = \"<p>Brak odpowiedzi</p>\"\n",
    "    response.value = new_response\n",
    "    count_label.value = f\"Odpowiedź: {response_index + 1}\"\n",
    "    count_label.value += f\"/{len(df)}\"\n",
    "response = widgets.HTML()\n",
    "count_label = widgets.Label()\n",
    "update_response()\n",
    "thumbs_up_button = widgets.Button(description='\\U0001F44D')\n",
    "thumbs_up_button.on_click(on_button_clicked)\n",
    "thumbs_down_button = widgets.Button(description='\\U0001F44E')\n",
    "thumbs_down_button.on_click(on_button_clicked)\n",
    "button_box = widgets.HBox([thumbs_down_button, thumbs_up_button])\n",
    "display(response, button_box, count_label)"
   ]
  },
  {
   "cell_type": "code",
   "execution_count": null,
   "id": "6d0caf09-7db2-4443-ab85-8a82fa3387fe",
   "metadata": {},
   "outputs": [],
   "source": []
  }
 ],
 "metadata": {
  "kernelspec": {
   "display_name": "Python 3 (ipykernel)",
   "language": "python",
   "name": "python3"
  },
  "language_info": {
   "codemirror_mode": {
    "name": "ipython",
    "version": 3
   },
   "file_extension": ".py",
   "mimetype": "text/x-python",
   "name": "python",
   "nbconvert_exporter": "python",
   "pygments_lexer": "ipython3",
   "version": "3.11.4"
  }
 },
 "nbformat": 4,
 "nbformat_minor": 5
}
