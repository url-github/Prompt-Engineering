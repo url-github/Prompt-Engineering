{
 "cells": [
  {
   "cell_type": "markdown",
   "id": "0a3a2ad5-fac8-4e5e-b7d4-70972816357e",
   "metadata": {},
   "source": [
    "# one_hierarchical_list_generation.py"
   ]
  },
  {
   "cell_type": "code",
   "execution_count": 1,
   "id": "7511664f-1474-4d47-b30d-9fc99e007c0d",
   "metadata": {},
   "outputs": [
    {
     "name": "stdout",
     "output_type": "stream",
     "text": [
      "Headings:\n",
      "\n",
      "* Introduction\n",
      "* Efficient Data Management\n",
      "* Conclusion\n",
      "\n",
      "Subheadings:\n",
      "\n",
      "* Explanation of data engineering\n",
      "* Importance of data engineering in today’s data-driven world\n",
      "* Definition of data management\n",
      "* How data engineering helps in efficient data management.\n",
      "* Importance of Data Engineering in the modern business world\n",
      "* Future of Data Engineering and its impact on the data ecosystem\n"
     ]
    },
    {
     "data": {
      "text/plain": [
       "'\\nOpis działania kodu:\\n\\nKod ten analizuje tekst zawierający konspekt artykułu i wyodrębnia z niego nagłówki oraz podnagłówki za pomocą wyrażeń regularnych.\\nNajpierw definiujemy wzorce do rozpoznawania nagłówków (sekcji oznaczonych * np. “Introduction”) i podnagłówków (elementów oznaczonych a., b. itp.).\\nNastępnie, za pomocą funkcji re.findall(), wyszukujemy pasujące fragmenty w tekście i wyświetlamy je w czytelnej formie.\\n\\nZastosowanie kodu:\\n\\t•\\tMoże być używany do parsowania tekstu z generowanych treści AI.\\n\\t•\\tPrzydaje się w przetwarzaniu tekstu, np. do ekstrakcji informacji ze strukturalnych dokumentów.\\n\\t•\\tMoże być wykorzystany do automatycznej analizy dokumentacji, np. w systemach zarządzania treścią.\\n    '"
      ]
     },
     "execution_count": 1,
     "metadata": {},
     "output_type": "execute_result"
    }
   ],
   "source": [
    "import re  # Importujemy moduł `re`, który służy do pracy z wyrażeniami regularnymi w Pythonie.\n",
    "\n",
    "# Przykładowy wynik generacji konspektu artykułu przez OpenAI\n",
    "openai_result = \"\"\"\n",
    "* Introduction\n",
    "    a. Explanation of data engineering\n",
    "    b. Importance of data engineering in today’s data-driven world\n",
    "* Efficient Data Management\n",
    "    a. Definition of data management\n",
    "    b. How data engineering helps in efficient data management.\n",
    "* Conclusion\n",
    "    a. Importance of Data Engineering in the modern business world\n",
    "    b. Future of Data Engineering and its impact on the data ecosystem\n",
    "\"\"\"\n",
    "\n",
    "# Definiujemy wzorce wyrażeń regularnych do wyszukiwania nagłówków i podnagłówków\n",
    "heading_pattern = r\"\\* (.+)\"  # Wzorzec dopasowuje linie zaczynające się od '* ' i przechwytuje treść po gwiazdce.\n",
    "subheading_pattern = r\"\\s+[a-z]\\. (.+)\"  # Wzorzec dopasowuje podpunkty zaczynające się od litery, kropki i spacji.\n",
    "\n",
    "# Wyszukujemy wszystkie nagłówki pasujące do wzorca `heading_pattern`\n",
    "headings = re.findall(heading_pattern, openai_result)\n",
    "\n",
    "# Wyszukujemy wszystkie podnagłówki pasujące do wzorca `subheading_pattern`\n",
    "subheadings = re.findall(subheading_pattern, openai_result)\n",
    "\n",
    "# Wyświetlamy znalezione nagłówki\n",
    "print(\"Headings:\\n\")  # Drukujemy nagłówek sekcji\n",
    "for heading in headings:\n",
    "    print(f\"* {heading}\")  # Drukujemy każdy nagłówek, dodając przed nim '* '\n",
    "\n",
    "# Wyświetlamy znalezione podnagłówki\n",
    "print(\"\\nSubheadings:\\n\")  # Przerwa między sekcjami i drukujemy nagłówek sekcji podnagłówków\n",
    "for subheading in subheadings:\n",
    "    print(f\"* {subheading}\")  # Drukujemy każdy podnagłówek, dodając przed nim '* '\n",
    "\n",
    "\n",
    "'''\n",
    "Opis działania kodu:\n",
    "\n",
    "Kod ten analizuje tekst zawierający konspekt artykułu i wyodrębnia z niego nagłówki oraz podnagłówki za pomocą wyrażeń regularnych.\n",
    "Najpierw definiujemy wzorce do rozpoznawania nagłówków (sekcji oznaczonych * np. “Introduction”) i podnagłówków (elementów oznaczonych a., b. itp.).\n",
    "Następnie, za pomocą funkcji re.findall(), wyszukujemy pasujące fragmenty w tekście i wyświetlamy je w czytelnej formie.\n",
    "\n",
    "Zastosowanie kodu:\n",
    "\t•\tMoże być używany do parsowania tekstu z generowanych treści AI.\n",
    "\t•\tPrzydaje się w przetwarzaniu tekstu, np. do ekstrakcji informacji ze strukturalnych dokumentów.\n",
    "\t•\tMoże być wykorzystany do automatycznej analizy dokumentacji, np. w systemach zarządzania treścią.\n",
    "    '''"
   ]
  },
  {
   "cell_type": "code",
   "execution_count": null,
   "id": "98e6966c-d66d-407e-9033-0580b5450001",
   "metadata": {},
   "outputs": [],
   "source": []
  }
 ],
 "metadata": {
  "kernelspec": {
   "display_name": "Python 3 (ipykernel)",
   "language": "python",
   "name": "python3"
  },
  "language_info": {
   "codemirror_mode": {
    "name": "ipython",
    "version": 3
   },
   "file_extension": ".py",
   "mimetype": "text/x-python",
   "name": "python",
   "nbconvert_exporter": "python",
   "pygments_lexer": "ipython3",
   "version": "3.11.4"
  }
 },
 "nbformat": 4,
 "nbformat_minor": 5
}
