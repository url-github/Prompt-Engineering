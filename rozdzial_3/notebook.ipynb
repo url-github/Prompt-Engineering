{
 "cells": [
  {
   "cell_type": "markdown",
   "id": "0a3a2ad5-fac8-4e5e-b7d4-70972816357e",
   "metadata": {},
   "source": [
    "# one_hierarchical_list_generation.py\n",
    "\n",
    "## Parsowanie listy hierarchicznej"
   ]
  },
  {
   "cell_type": "code",
   "execution_count": 1,
   "id": "7511664f-1474-4d47-b30d-9fc99e007c0d",
   "metadata": {},
   "outputs": [
    {
     "name": "stdout",
     "output_type": "stream",
     "text": [
      "Headings:\n",
      "\n",
      "* Introduction\n",
      "* Efficient Data Management\n",
      "* Conclusion\n",
      "\n",
      "Subheadings:\n",
      "\n",
      "* Explanation of data engineering\n",
      "* Importance of data engineering in today’s data-driven world\n",
      "* Definition of data management\n",
      "* How data engineering helps in efficient data management.\n",
      "* Importance of Data Engineering in the modern business world\n",
      "* Future of Data Engineering and its impact on the data ecosystem\n"
     ]
    },
    {
     "data": {
      "text/plain": [
       "'\\nOpis działania kodu:\\n\\nKod ten analizuje tekst zawierający konspekt artykułu i wyodrębnia z niego nagłówki oraz podnagłówki za pomocą wyrażeń regularnych.\\nNajpierw definiujemy wzorce do rozpoznawania nagłówków (sekcji oznaczonych * np. “Introduction”) i podnagłówków (elementów oznaczonych a., b. itp.).\\nNastępnie, za pomocą funkcji re.findall(), wyszukujemy pasujące fragmenty w tekście i wyświetlamy je w czytelnej formie.\\n\\nZastosowanie kodu:\\n\\t•\\tMoże być używany do parsowania tekstu z generowanych treści AI.\\n\\t•\\tPrzydaje się w przetwarzaniu tekstu, np. do ekstrakcji informacji ze strukturalnych dokumentów.\\n\\t•\\tMoże być wykorzystany do automatycznej analizy dokumentacji, np. w systemach zarządzania treścią.\\n    '"
      ]
     },
     "execution_count": 1,
     "metadata": {},
     "output_type": "execute_result"
    }
   ],
   "source": [
    "import re  # Importujemy moduł `re`, który służy do pracy z wyrażeniami regularnymi w Pythonie.\n",
    "\n",
    "# Przykładowy wynik generacji konspektu artykułu przez OpenAI\n",
    "openai_result = \"\"\"\n",
    "* Introduction\n",
    "    a. Explanation of data engineering\n",
    "    b. Importance of data engineering in today’s data-driven world\n",
    "* Efficient Data Management\n",
    "    a. Definition of data management\n",
    "    b. How data engineering helps in efficient data management.\n",
    "* Conclusion\n",
    "    a. Importance of Data Engineering in the modern business world\n",
    "    b. Future of Data Engineering and its impact on the data ecosystem\n",
    "\"\"\"\n",
    "\n",
    "# Definiujemy wzorce wyrażeń regularnych do wyszukiwania nagłówków i podnagłówków\n",
    "heading_pattern = r\"\\* (.+)\"  # Wzorzec dopasowuje linie zaczynające się od '* ' i przechwytuje treść po gwiazdce.\n",
    "subheading_pattern = r\"\\s+[a-z]\\. (.+)\"  # Wzorzec dopasowuje podpunkty zaczynające się od litery, kropki i spacji.\n",
    "\n",
    "# Wyszukujemy wszystkie nagłówki pasujące do wzorca `heading_pattern`\n",
    "headings = re.findall(heading_pattern, openai_result)\n",
    "\n",
    "# Wyszukujemy wszystkie podnagłówki pasujące do wzorca `subheading_pattern`\n",
    "subheadings = re.findall(subheading_pattern, openai_result)\n",
    "\n",
    "# Wyświetlamy znalezione nagłówki\n",
    "print(\"Headings:\\n\")  # Drukujemy nagłówek sekcji\n",
    "for heading in headings:\n",
    "    print(f\"* {heading}\")  # Drukujemy każdy nagłówek, dodając przed nim '* '\n",
    "\n",
    "# Wyświetlamy znalezione podnagłówki\n",
    "print(\"\\nSubheadings:\\n\")  # Przerwa między sekcjami i drukujemy nagłówek sekcji podnagłówków\n",
    "for subheading in subheadings:\n",
    "    print(f\"* {subheading}\")  # Drukujemy każdy podnagłówek, dodając przed nim '* '\n",
    "\n",
    "\n",
    "'''\n",
    "Opis działania kodu:\n",
    "\n",
    "Kod ten analizuje tekst zawierający konspekt artykułu i wyodrębnia z niego nagłówki oraz podnagłówki za pomocą wyrażeń regularnych.\n",
    "Najpierw definiujemy wzorce do rozpoznawania nagłówków (sekcji oznaczonych * np. “Introduction”) i podnagłówków (elementów oznaczonych a., b. itp.).\n",
    "Następnie, za pomocą funkcji re.findall(), wyszukujemy pasujące fragmenty w tekście i wyświetlamy je w czytelnej formie.\n",
    "\n",
    "Zastosowanie kodu:\n",
    "\t•\tMoże być używany do parsowania tekstu z generowanych treści AI.\n",
    "\t•\tPrzydaje się w przetwarzaniu tekstu, np. do ekstrakcji informacji ze strukturalnych dokumentów.\n",
    "\t•\tMoże być wykorzystany do automatycznej analizy dokumentacji, np. w systemach zarządzania treścią.\n",
    "    '''"
   ]
  },
  {
   "cell_type": "markdown",
   "id": "7a87f814-d3b8-45da-8b16-96f96170473d",
   "metadata": {},
   "source": [
    "# two_hierarchical_list_generation.py\n",
    "\n",
    "## Parsowanie hierarchicznej listy do słownika w Pythonie\n",
    "\n"
   ]
  },
  {
   "cell_type": "code",
   "execution_count": 2,
   "id": "94a8ed55-eaa5-40ea-8822-71f27a02cf1b",
   "metadata": {},
   "outputs": [
    {
     "name": "stdout",
     "output_type": "stream",
     "text": [
      "{'Introduction': ['a. Explanation of data engineering', 'b. Importance of data engineering in today’s data-driven world'], 'Efficient Data Management': ['a. Definition of data management', 'b. How data engineering helps in efficient data management.', 'c. Why data engineering is important for data management'], 'Conclusion': ['a. Importance of Data Engineering in the modern business world', 'b. Future of Data Engineering and its impact on the data ecosystem']}\n"
     ]
    }
   ],
   "source": [
    "import re  # Importujemy moduł `re`, który służy do obsługi wyrażeń regularnych w Pythonie.\n",
    "\n",
    "# Przykładowy tekst zawierający konspekt artykułu wygenerowany przez OpenAI\n",
    "openai_result = \"\"\"\n",
    "* Introduction\n",
    "  a. Explanation of data engineering\n",
    "  b. Importance of data engineering in today’s data-driven world\n",
    "* Efficient Data Management\n",
    "    a. Definition of data management\n",
    "    b. How data engineering helps in efficient data management.\n",
    "    c. Why data engineering is important for data management\n",
    "* Conclusion\n",
    "    a. Importance of Data Engineering in the modern business world\n",
    "    b. Future of Data Engineering and its impact on the data ecosystem\n",
    "\"\"\"\n",
    "\n",
    "# Tworzymy wyrażenie regularne do dopasowania sekcji (główne nagłówki oznaczone \"* \")\n",
    "section_regex = re.compile(r\"\\* (.+)\")\n",
    "\n",
    "# Tworzymy wyrażenie regularne do dopasowania podsekcji (podpunkty oznaczone literą i kropką, np. \"a. \")\n",
    "subsection_regex = re.compile(r\"\\s*([a-z]\\..+)\")\n",
    "\n",
    "# Inicjalizujemy pusty słownik, w którym przechowywane będą sekcje i ich podsekcje\n",
    "result_dict = {}\n",
    "\n",
    "# Zmienna pomocnicza do śledzenia bieżącej sekcji, do której przypisujemy podsekcje\n",
    "current_section = None\n",
    "\n",
    "# Przetwarzamy każdą linię tekstu osobno\n",
    "for line in openai_result.split(\"\\n\"):  # Dzielimy cały tekst na linie i iterujemy przez każdą z nich\n",
    "    section_match = section_regex.match(line)  # Sprawdzamy, czy linia pasuje do wzorca sekcji\n",
    "    subsection_match = subsection_regex.match(line)  # Sprawdzamy, czy linia pasuje do wzorca podsekcji\n",
    "\n",
    "    if section_match:  # Jeśli linia to nowa sekcja\n",
    "        current_section = section_match.group(1)  # Pobieramy nazwę sekcji\n",
    "        result_dict[current_section] = []  # Dodajemy nową sekcję do słownika jako klucz z pustą listą podsekcji\n",
    "    elif subsection_match and current_section is not None:  # Jeśli linia to podsekcja i mamy aktywną sekcję\n",
    "        result_dict[current_section].append(subsection_match.group(1))  # Dodajemy podsekcję do odpowiedniej sekcji\n",
    "\n",
    "# Drukujemy wynikowy słownik zawierający sekcje i podsekcje\n",
    "print(result_dict)\n",
    "\n",
    "'''\n",
    "Opis działania kodu:\n",
    "\n",
    "Kod analizuje tekst konspektu artykułu i strukturyzuje go w postaci słownika, gdzie:\n",
    "\t•\tkluczem są główne sekcje (np. “Introduction”, “Efficient Data Management”, “Conclusion”),\n",
    "\t•\twartościami są listy podsekcji przypisanych do każdej sekcji.\n",
    "\n",
    "Zastosowanie kodu:\n",
    "\t•\tPrzetwarzanie i analiza tekstu – np. parsowanie konspektów, dokumentacji czy treści generowanych przez AI.\n",
    "\t•\tKonwersja tekstu do strukturyzowanej formy – np. JSON, baza danych, raporty.\n",
    "\t•\tAutomatyczne wydobywanie informacji – np. kategoryzowanie treści w aplikacjach AI lub NLP.\n",
    "\n",
    "    '''"
   ]
  }
 ],
 "metadata": {
  "kernelspec": {
   "display_name": "Python 3 (ipykernel)",
   "language": "python",
   "name": "python3"
  },
  "language_info": {
   "codemirror_mode": {
    "name": "ipython",
    "version": 3
   },
   "file_extension": ".py",
   "mimetype": "text/x-python",
   "name": "python",
   "nbconvert_exporter": "python",
   "pygments_lexer": "ipython3",
   "version": "3.11.4"
  }
 },
 "nbformat": 4,
 "nbformat_minor": 5
}
